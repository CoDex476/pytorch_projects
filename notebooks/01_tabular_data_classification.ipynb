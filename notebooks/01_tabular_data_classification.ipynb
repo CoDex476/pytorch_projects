{
 "cells": [
  {
   "cell_type": "code",
   "execution_count": 1,
   "id": "e835fd3c-a23c-4deb-88f8-c3addbb68158",
   "metadata": {},
   "outputs": [
    {
     "name": "stdout",
     "output_type": "stream",
     "text": [
      "Please provide your Kaggle credentials to download this dataset. Learn more: http://bit.ly/kaggle-creds\n",
      "Your Kaggle username:"
     ]
    },
    {
     "name": "stdin",
     "output_type": "stream",
     "text": [
      "  abednegodunyah\n"
     ]
    },
    {
     "name": "stdout",
     "output_type": "stream",
     "text": [
      "Your Kaggle Key:"
     ]
    },
    {
     "name": "stdin",
     "output_type": "stream",
     "text": [
      "  ········\n"
     ]
    },
    {
     "name": "stdout",
     "output_type": "stream",
     "text": [
      "Dataset URL: https://www.kaggle.com/datasets/mssmartypants/rice-type-classification\n",
      "Downloading rice-type-classification.zip to .\\rice-type-classification\n"
     ]
    },
    {
     "name": "stderr",
     "output_type": "stream",
     "text": [
      "100%|██████████████████████████████████████████████████████████████████████████████████████████████████████████████████████████████████████████████████████████████████████████| 888k/888k [00:00<00:00, 1.32GB/s]"
     ]
    },
    {
     "name": "stdout",
     "output_type": "stream",
     "text": [
      "\n"
     ]
    },
    {
     "name": "stderr",
     "output_type": "stream",
     "text": [
      "\n"
     ]
    }
   ],
   "source": [
    "# Install and import opendatasets to download datasets from Kaggle\n",
    "!pip install opendatasets --quiet\n",
    "import opendatasets as od\n",
    "\n",
    "# Download the rice type classification dataset from Kaggle\n",
    "od.download(\"https://www.kaggle.com/datasets/mssmartypants/rice-type-classification\")"
   ]
  },
  {
   "cell_type": "code",
   "execution_count": 3,
   "id": "b37b0895-7b0e-4ace-8820-1b46de4f4132",
   "metadata": {},
   "outputs": [
    {
     "name": "stdout",
     "output_type": "stream",
     "text": [
      "cuda\n"
     ]
    }
   ],
   "source": [
    "# Import libraries\n",
    "import torch\n",
    "import torch.nn as nn\n",
    "from torch.optim import Adam\n",
    "from torch.utils.data import Dataset, DataLoader\n",
    "from torchsummary import summary\n",
    "from sklearn.model_selection import train_test_split\n",
    "from sklearn.metrics import accuracy_score\n",
    "import matplotlib.pyplot as plt\n",
    "import pandas as pd\n",
    "import numpy as np\n",
    "\n",
    "# Set device to GPU if available, else CPU\n",
    "device = \"cuda\" if torch.cuda.is_available() else \"cpu\"\n",
    "print(device)"
   ]
  },
  {
   "cell_type": "code",
   "execution_count": 31,
   "id": "b04c4312-533e-49ad-ba99-d878d6d75dab",
   "metadata": {},
   "outputs": [
    {
     "data": {
      "text/html": [
       "<div>\n",
       "<style scoped>\n",
       "    .dataframe tbody tr th:only-of-type {\n",
       "        vertical-align: middle;\n",
       "    }\n",
       "\n",
       "    .dataframe tbody tr th {\n",
       "        vertical-align: top;\n",
       "    }\n",
       "\n",
       "    .dataframe thead th {\n",
       "        text-align: right;\n",
       "    }\n",
       "</style>\n",
       "<table border=\"1\" class=\"dataframe\">\n",
       "  <thead>\n",
       "    <tr style=\"text-align: right;\">\n",
       "      <th></th>\n",
       "      <th>id</th>\n",
       "      <th>Area</th>\n",
       "      <th>MajorAxisLength</th>\n",
       "      <th>MinorAxisLength</th>\n",
       "      <th>Eccentricity</th>\n",
       "      <th>ConvexArea</th>\n",
       "      <th>EquivDiameter</th>\n",
       "      <th>Extent</th>\n",
       "      <th>Perimeter</th>\n",
       "      <th>Roundness</th>\n",
       "      <th>AspectRation</th>\n",
       "      <th>Class</th>\n",
       "    </tr>\n",
       "  </thead>\n",
       "  <tbody>\n",
       "    <tr>\n",
       "      <th>0</th>\n",
       "      <td>1</td>\n",
       "      <td>4537</td>\n",
       "      <td>92.229316</td>\n",
       "      <td>64.012769</td>\n",
       "      <td>0.719916</td>\n",
       "      <td>4677</td>\n",
       "      <td>76.004525</td>\n",
       "      <td>0.657536</td>\n",
       "      <td>273.085</td>\n",
       "      <td>0.764510</td>\n",
       "      <td>1.440796</td>\n",
       "      <td>1</td>\n",
       "    </tr>\n",
       "    <tr>\n",
       "      <th>1</th>\n",
       "      <td>2</td>\n",
       "      <td>2872</td>\n",
       "      <td>74.691881</td>\n",
       "      <td>51.400454</td>\n",
       "      <td>0.725553</td>\n",
       "      <td>3015</td>\n",
       "      <td>60.471018</td>\n",
       "      <td>0.713009</td>\n",
       "      <td>208.317</td>\n",
       "      <td>0.831658</td>\n",
       "      <td>1.453137</td>\n",
       "      <td>1</td>\n",
       "    </tr>\n",
       "    <tr>\n",
       "      <th>2</th>\n",
       "      <td>3</td>\n",
       "      <td>3048</td>\n",
       "      <td>76.293164</td>\n",
       "      <td>52.043491</td>\n",
       "      <td>0.731211</td>\n",
       "      <td>3132</td>\n",
       "      <td>62.296341</td>\n",
       "      <td>0.759153</td>\n",
       "      <td>210.012</td>\n",
       "      <td>0.868434</td>\n",
       "      <td>1.465950</td>\n",
       "      <td>1</td>\n",
       "    </tr>\n",
       "    <tr>\n",
       "      <th>3</th>\n",
       "      <td>4</td>\n",
       "      <td>3073</td>\n",
       "      <td>77.033628</td>\n",
       "      <td>51.928487</td>\n",
       "      <td>0.738639</td>\n",
       "      <td>3157</td>\n",
       "      <td>62.551300</td>\n",
       "      <td>0.783529</td>\n",
       "      <td>210.657</td>\n",
       "      <td>0.870203</td>\n",
       "      <td>1.483456</td>\n",
       "      <td>1</td>\n",
       "    </tr>\n",
       "    <tr>\n",
       "      <th>4</th>\n",
       "      <td>5</td>\n",
       "      <td>3693</td>\n",
       "      <td>85.124785</td>\n",
       "      <td>56.374021</td>\n",
       "      <td>0.749282</td>\n",
       "      <td>3802</td>\n",
       "      <td>68.571668</td>\n",
       "      <td>0.769375</td>\n",
       "      <td>230.332</td>\n",
       "      <td>0.874743</td>\n",
       "      <td>1.510000</td>\n",
       "      <td>1</td>\n",
       "    </tr>\n",
       "  </tbody>\n",
       "</table>\n",
       "</div>"
      ],
      "text/plain": [
       "   id  Area  MajorAxisLength  MinorAxisLength  Eccentricity  ConvexArea  \\\n",
       "0   1  4537        92.229316        64.012769      0.719916        4677   \n",
       "1   2  2872        74.691881        51.400454      0.725553        3015   \n",
       "2   3  3048        76.293164        52.043491      0.731211        3132   \n",
       "3   4  3073        77.033628        51.928487      0.738639        3157   \n",
       "4   5  3693        85.124785        56.374021      0.749282        3802   \n",
       "\n",
       "   EquivDiameter    Extent  Perimeter  Roundness  AspectRation  Class  \n",
       "0      76.004525  0.657536    273.085   0.764510      1.440796      1  \n",
       "1      60.471018  0.713009    208.317   0.831658      1.453137      1  \n",
       "2      62.296341  0.759153    210.012   0.868434      1.465950      1  \n",
       "3      62.551300  0.783529    210.657   0.870203      1.483456      1  \n",
       "4      68.571668  0.769375    230.332   0.874743      1.510000      1  "
      ]
     },
     "execution_count": 31,
     "metadata": {},
     "output_type": "execute_result"
    }
   ],
   "source": [
    "# Load the Rice Classification CSV dataset into a pandas DataFrame\n",
    "data_df = pd.read_csv(r\"../data/riceClassification.csv\")\n",
    "\n",
    "# output first few rows to check the data\n",
    "data_df.head()"
   ]
  },
  {
   "cell_type": "code",
   "execution_count": 33,
   "id": "27844378-41ff-4e74-adc4-426dedce54c7",
   "metadata": {},
   "outputs": [],
   "source": [
    "# Remove any rows with missing values to ensure clean data for modeling\n",
    "data_df.dropna(inplace=True)\n",
    "\n",
    "# Drop the 'id' column as it is just an identifier and not useful for model training\n",
    "data_df.drop(['id'], axis=1, inplace=True)"
   ]
  },
  {
   "cell_type": "code",
   "execution_count": 34,
   "id": "f1ccaeb0-4296-4ebf-81ec-817d19684b8a",
   "metadata": {},
   "outputs": [
    {
     "data": {
      "text/html": [
       "<div>\n",
       "<style scoped>\n",
       "    .dataframe tbody tr th:only-of-type {\n",
       "        vertical-align: middle;\n",
       "    }\n",
       "\n",
       "    .dataframe tbody tr th {\n",
       "        vertical-align: top;\n",
       "    }\n",
       "\n",
       "    .dataframe thead th {\n",
       "        text-align: right;\n",
       "    }\n",
       "</style>\n",
       "<table border=\"1\" class=\"dataframe\">\n",
       "  <thead>\n",
       "    <tr style=\"text-align: right;\">\n",
       "      <th></th>\n",
       "      <th>Area</th>\n",
       "      <th>MajorAxisLength</th>\n",
       "      <th>MinorAxisLength</th>\n",
       "      <th>Eccentricity</th>\n",
       "      <th>ConvexArea</th>\n",
       "      <th>EquivDiameter</th>\n",
       "      <th>Extent</th>\n",
       "      <th>Perimeter</th>\n",
       "      <th>Roundness</th>\n",
       "      <th>AspectRation</th>\n",
       "      <th>Class</th>\n",
       "    </tr>\n",
       "  </thead>\n",
       "  <tbody>\n",
       "    <tr>\n",
       "      <th>0</th>\n",
       "      <td>4537</td>\n",
       "      <td>92.229316</td>\n",
       "      <td>64.012769</td>\n",
       "      <td>0.719916</td>\n",
       "      <td>4677</td>\n",
       "      <td>76.004525</td>\n",
       "      <td>0.657536</td>\n",
       "      <td>273.085</td>\n",
       "      <td>0.764510</td>\n",
       "      <td>1.440796</td>\n",
       "      <td>1</td>\n",
       "    </tr>\n",
       "    <tr>\n",
       "      <th>1</th>\n",
       "      <td>2872</td>\n",
       "      <td>74.691881</td>\n",
       "      <td>51.400454</td>\n",
       "      <td>0.725553</td>\n",
       "      <td>3015</td>\n",
       "      <td>60.471018</td>\n",
       "      <td>0.713009</td>\n",
       "      <td>208.317</td>\n",
       "      <td>0.831658</td>\n",
       "      <td>1.453137</td>\n",
       "      <td>1</td>\n",
       "    </tr>\n",
       "    <tr>\n",
       "      <th>2</th>\n",
       "      <td>3048</td>\n",
       "      <td>76.293164</td>\n",
       "      <td>52.043491</td>\n",
       "      <td>0.731211</td>\n",
       "      <td>3132</td>\n",
       "      <td>62.296341</td>\n",
       "      <td>0.759153</td>\n",
       "      <td>210.012</td>\n",
       "      <td>0.868434</td>\n",
       "      <td>1.465950</td>\n",
       "      <td>1</td>\n",
       "    </tr>\n",
       "    <tr>\n",
       "      <th>3</th>\n",
       "      <td>3073</td>\n",
       "      <td>77.033628</td>\n",
       "      <td>51.928487</td>\n",
       "      <td>0.738639</td>\n",
       "      <td>3157</td>\n",
       "      <td>62.551300</td>\n",
       "      <td>0.783529</td>\n",
       "      <td>210.657</td>\n",
       "      <td>0.870203</td>\n",
       "      <td>1.483456</td>\n",
       "      <td>1</td>\n",
       "    </tr>\n",
       "    <tr>\n",
       "      <th>4</th>\n",
       "      <td>3693</td>\n",
       "      <td>85.124785</td>\n",
       "      <td>56.374021</td>\n",
       "      <td>0.749282</td>\n",
       "      <td>3802</td>\n",
       "      <td>68.571668</td>\n",
       "      <td>0.769375</td>\n",
       "      <td>230.332</td>\n",
       "      <td>0.874743</td>\n",
       "      <td>1.510000</td>\n",
       "      <td>1</td>\n",
       "    </tr>\n",
       "  </tbody>\n",
       "</table>\n",
       "</div>"
      ],
      "text/plain": [
       "   Area  MajorAxisLength  MinorAxisLength  Eccentricity  ConvexArea  \\\n",
       "0  4537        92.229316        64.012769      0.719916        4677   \n",
       "1  2872        74.691881        51.400454      0.725553        3015   \n",
       "2  3048        76.293164        52.043491      0.731211        3132   \n",
       "3  3073        77.033628        51.928487      0.738639        3157   \n",
       "4  3693        85.124785        56.374021      0.749282        3802   \n",
       "\n",
       "   EquivDiameter    Extent  Perimeter  Roundness  AspectRation  Class  \n",
       "0      76.004525  0.657536    273.085   0.764510      1.440796      1  \n",
       "1      60.471018  0.713009    208.317   0.831658      1.453137      1  \n",
       "2      62.296341  0.759153    210.012   0.868434      1.465950      1  \n",
       "3      62.551300  0.783529    210.657   0.870203      1.483456      1  \n",
       "4      68.571668  0.769375    230.332   0.874743      1.510000      1  "
      ]
     },
     "execution_count": 34,
     "metadata": {},
     "output_type": "execute_result"
    }
   ],
   "source": [
    "# output first few rows to check the data\n",
    "data_df.head()"
   ]
  },
  {
   "cell_type": "code",
   "execution_count": 35,
   "id": "6fa19699-60a8-4362-b588-bcf0c91563ed",
   "metadata": {},
   "outputs": [
    {
     "name": "stdout",
     "output_type": "stream",
     "text": [
      "(18185, 11)\n"
     ]
    }
   ],
   "source": [
    "# Print the shape of the DataFrame (rows, columns) after cleaning\n",
    "print(data_df.shape)"
   ]
  },
  {
   "cell_type": "code",
   "execution_count": 36,
   "id": "23f36ea7-3384-4017-8483-61d440466d8b",
   "metadata": {},
   "outputs": [
    {
     "name": "stdout",
     "output_type": "stream",
     "text": [
      "[1 0]\n"
     ]
    }
   ],
   "source": [
    "# Print all unique values in the 'Class' column to see the different classes/categories\n",
    "print(data_df[\"Class\"].unique())"
   ]
  },
  {
   "cell_type": "code",
   "execution_count": 38,
   "id": "91dae14b-1393-4ad4-9e46-bfa0ea5f0c60",
   "metadata": {},
   "outputs": [
    {
     "name": "stdout",
     "output_type": "stream",
     "text": [
      "Class\n",
      "1    9985\n",
      "0    8200\n",
      "Name: count, dtype: int64\n"
     ]
    }
   ],
   "source": [
    "# Print the count of each class in the 'Class' | check whether the dataset is balanced or not\n",
    "print(data_df[\"Class\"].value_counts())"
   ]
  },
  {
   "cell_type": "code",
   "execution_count": 39,
   "id": "b07fa881-9918-4f69-915e-357cff761103",
   "metadata": {},
   "outputs": [
    {
     "data": {
      "text/html": [
       "<div>\n",
       "<style scoped>\n",
       "    .dataframe tbody tr th:only-of-type {\n",
       "        vertical-align: middle;\n",
       "    }\n",
       "\n",
       "    .dataframe tbody tr th {\n",
       "        vertical-align: top;\n",
       "    }\n",
       "\n",
       "    .dataframe thead th {\n",
       "        text-align: right;\n",
       "    }\n",
       "</style>\n",
       "<table border=\"1\" class=\"dataframe\">\n",
       "  <thead>\n",
       "    <tr style=\"text-align: right;\">\n",
       "      <th></th>\n",
       "      <th>Area</th>\n",
       "      <th>MajorAxisLength</th>\n",
       "      <th>MinorAxisLength</th>\n",
       "      <th>Eccentricity</th>\n",
       "      <th>ConvexArea</th>\n",
       "      <th>EquivDiameter</th>\n",
       "      <th>Extent</th>\n",
       "      <th>Perimeter</th>\n",
       "      <th>Roundness</th>\n",
       "      <th>AspectRation</th>\n",
       "      <th>Class</th>\n",
       "    </tr>\n",
       "  </thead>\n",
       "  <tbody>\n",
       "    <tr>\n",
       "      <th>0</th>\n",
       "      <td>0.444368</td>\n",
       "      <td>0.503404</td>\n",
       "      <td>0.775435</td>\n",
       "      <td>0.744658</td>\n",
       "      <td>0.424873</td>\n",
       "      <td>0.666610</td>\n",
       "      <td>0.741661</td>\n",
       "      <td>0.537029</td>\n",
       "      <td>0.844997</td>\n",
       "      <td>0.368316</td>\n",
       "      <td>1.0</td>\n",
       "    </tr>\n",
       "    <tr>\n",
       "      <th>1</th>\n",
       "      <td>0.281293</td>\n",
       "      <td>0.407681</td>\n",
       "      <td>0.622653</td>\n",
       "      <td>0.750489</td>\n",
       "      <td>0.273892</td>\n",
       "      <td>0.530370</td>\n",
       "      <td>0.804230</td>\n",
       "      <td>0.409661</td>\n",
       "      <td>0.919215</td>\n",
       "      <td>0.371471</td>\n",
       "      <td>1.0</td>\n",
       "    </tr>\n",
       "    <tr>\n",
       "      <th>2</th>\n",
       "      <td>0.298531</td>\n",
       "      <td>0.416421</td>\n",
       "      <td>0.630442</td>\n",
       "      <td>0.756341</td>\n",
       "      <td>0.284520</td>\n",
       "      <td>0.546380</td>\n",
       "      <td>0.856278</td>\n",
       "      <td>0.412994</td>\n",
       "      <td>0.959862</td>\n",
       "      <td>0.374747</td>\n",
       "      <td>1.0</td>\n",
       "    </tr>\n",
       "    <tr>\n",
       "      <th>3</th>\n",
       "      <td>0.300979</td>\n",
       "      <td>0.420463</td>\n",
       "      <td>0.629049</td>\n",
       "      <td>0.764024</td>\n",
       "      <td>0.286791</td>\n",
       "      <td>0.548616</td>\n",
       "      <td>0.883772</td>\n",
       "      <td>0.414262</td>\n",
       "      <td>0.961818</td>\n",
       "      <td>0.379222</td>\n",
       "      <td>1.0</td>\n",
       "    </tr>\n",
       "    <tr>\n",
       "      <th>4</th>\n",
       "      <td>0.361704</td>\n",
       "      <td>0.464626</td>\n",
       "      <td>0.682901</td>\n",
       "      <td>0.775033</td>\n",
       "      <td>0.345385</td>\n",
       "      <td>0.601418</td>\n",
       "      <td>0.867808</td>\n",
       "      <td>0.452954</td>\n",
       "      <td>0.966836</td>\n",
       "      <td>0.386007</td>\n",
       "      <td>1.0</td>\n",
       "    </tr>\n",
       "  </tbody>\n",
       "</table>\n",
       "</div>"
      ],
      "text/plain": [
       "       Area  MajorAxisLength  MinorAxisLength  Eccentricity  ConvexArea  \\\n",
       "0  0.444368         0.503404         0.775435      0.744658    0.424873   \n",
       "1  0.281293         0.407681         0.622653      0.750489    0.273892   \n",
       "2  0.298531         0.416421         0.630442      0.756341    0.284520   \n",
       "3  0.300979         0.420463         0.629049      0.764024    0.286791   \n",
       "4  0.361704         0.464626         0.682901      0.775033    0.345385   \n",
       "\n",
       "   EquivDiameter    Extent  Perimeter  Roundness  AspectRation  Class  \n",
       "0       0.666610  0.741661   0.537029   0.844997      0.368316    1.0  \n",
       "1       0.530370  0.804230   0.409661   0.919215      0.371471    1.0  \n",
       "2       0.546380  0.856278   0.412994   0.959862      0.374747    1.0  \n",
       "3       0.548616  0.883772   0.414262   0.961818      0.379222    1.0  \n",
       "4       0.601418  0.867808   0.452954   0.966836      0.386007    1.0  "
      ]
     },
     "execution_count": 39,
     "metadata": {},
     "output_type": "execute_result"
    }
   ],
   "source": [
    "# Create a copy of the original DataFrame to preserve raw data\n",
    "original_df = data_df.copy()\n",
    "\n",
    "# Scale all numbers so they are between -1 and 1\n",
    "for column in data_df.columns:\n",
    "    data_df[column] = data_df[column]/data_df[column].abs().max()\n",
    "\n",
    "# output first few rows to check the data\n",
    "data_df.head()"
   ]
  },
  {
   "cell_type": "code",
   "execution_count": 40,
   "id": "468bee90-4603-4f6f-9150-d03c555af8bf",
   "metadata": {},
   "outputs": [],
   "source": [
    "# Get all the input features except the last column as a Numpy array\n",
    "X = np.array(data_df.iloc[:, :-1])\n",
    "\n",
    "#  Get the target/output (the last column) as a Numpy array\n",
    "Y = np.array(data_df.iloc[:, -1])"
   ]
  },
  {
   "cell_type": "code",
   "execution_count": 22,
   "id": "aab71007-a1a5-4e6c-9b61-96f81aa22167",
   "metadata": {},
   "outputs": [],
   "source": [
    "# Split the data into training and testing sets\n",
    "# 70% of the data will be used for training, 30% for testing\n",
    "X_train, X_test, y_train, y_test = train_test_split(X, Y, test_size = 0.3)"
   ]
  },
  {
   "cell_type": "code",
   "execution_count": 41,
   "id": "ac80f799-e4af-4016-97f2-36a33126ffae",
   "metadata": {},
   "outputs": [],
   "source": [
    "# Split the previous test set into two equal parts: \n",
    "# one for validation and one to keep as the final test set\n",
    "X_test, X_val, y_test, y_val = train_test_split(X_test, y_test, test_size = 0.5)"
   ]
  },
  {
   "cell_type": "code",
   "execution_count": 42,
   "id": "3df24d85-9a99-4099-b477-6d00a961e9dc",
   "metadata": {},
   "outputs": [
    {
     "name": "stdout",
     "output_type": "stream",
     "text": [
      "(12729, 10)\n",
      "(1364, 10)\n",
      "(1364, 10)\n"
     ]
    }
   ],
   "source": [
    "# Print the shapes of the training, test, and validation feature sets\n",
    "# This helps verify how many samples and features are in each set\n",
    "print(X_train.shape)\n",
    "print(X_test.shape)\n",
    "print(X_val.shape)"
   ]
  },
  {
   "cell_type": "code",
   "execution_count": 44,
   "id": "803ae647-1e14-408b-97d9-abbe53f1de61",
   "metadata": {},
   "outputs": [],
   "source": [
    "# Custom PyTorch Dataset class to handle features and labels\n",
    "class dataset(Dataset):\n",
    "    def __init__(self, X, Y):\n",
    "        # Convert features and labels to PyTorch tensors and move to device\n",
    "        self.X = torch.tensor(X, dtype = torch.float32).to(device)\n",
    "        self.Y = torch.tensor(Y, dtype = torch.float32).to(device)\n",
    "\n",
    "    def __len__(self):\n",
    "        # Return the number of samples in the dataset\n",
    "        return len(self.X)\n",
    "\n",
    "    def __getitem__(self, index):\n",
    "        # Return a single sample (feature and label) at the given index\n",
    "        return self.X[index], self.Y[index]"
   ]
  },
  {
   "cell_type": "code",
   "execution_count": 45,
   "id": "7492f449-78f9-400a-810c-adfcd756f118",
   "metadata": {},
   "outputs": [],
   "source": [
    "# Create PyTorch dataset objects for training, validation, and testing\n",
    "training_data = dataset(X_train, y_train)\n",
    "validation_data = dataset(X_val, y_val)\n",
    "testing_data = dataset(X_test, y_test)"
   ]
  },
  {
   "cell_type": "code",
   "execution_count": 49,
   "id": "20be0d18-96a2-4274-8f0e-c9f1dd93e79d",
   "metadata": {},
   "outputs": [],
   "source": [
    "# Create PyTorch DataLoaders to handle batching and shuffling of the data\n",
    "training_dataloader = DataLoader(training_data, batch_size = 10, shuffle = True)\n",
    "validation_dataloader = DataLoader(validation_data, batch_size = 10, shuffle = True)\n",
    "testing_dataloader = DataLoader(testing_data, batch_size = 10, shuffle = True)"
   ]
  },
  {
   "cell_type": "code",
   "execution_count": 51,
   "id": "001a6206-8eab-4b82-81d6-f7447cafba31",
   "metadata": {},
   "outputs": [],
   "source": [
    "# for x, y in training_dataloader:\n",
    "#     print(x)\n",
    "#     print(\"============================\")\n",
    "#     print(y)\n",
    "#     break"
   ]
  },
  {
   "cell_type": "code",
   "execution_count": 54,
   "id": "de4c5c17-3e3d-4020-9f1d-a5e96b63992e",
   "metadata": {},
   "outputs": [],
   "source": [
    "HIDDEN_NEURONS = 10\n",
    "\n",
    "# create a neural network model\n",
    "class MyModel(nn.Module):\n",
    "    def __init__(self):\n",
    "        super(MyModel, self).__init__()\n",
    "\n",
    "        # fully connected layer from input features to the hidden layer\n",
    "        self.input_layer = nn.Linear(X.shape[1], HIDDEN_NEURONS)\n",
    "\n",
    "        # fully connected layer from the hidden layer to the output\n",
    "        self.linear = nn.Linear(HIDDEN_NEURONS, 1)\n",
    "\n",
    "        # Sigmoid activation to output a probability between 0 and 1\n",
    "        self.sigmoid = nn.Sigmoid()\n",
    "\n",
    "    def forward(self, x):\n",
    "        # Pass data through input layer\n",
    "        x = self.input_layer(x)\n",
    "        # Pass data through hidden-to-output layer\n",
    "        x = self.linear(x)\n",
    "         # Apply sigmoid activation for binary classification\n",
    "        x = self.sigmoid(x)\n",
    "        return x\n",
    "\n",
    "# Create the model and move it to the device (CPU or GPU)\n",
    "model = MyModel().to(device)"
   ]
  },
  {
   "cell_type": "code",
   "execution_count": 56,
   "id": "352fb65a-6954-42a6-ac8c-96f955672f0c",
   "metadata": {},
   "outputs": [
    {
     "name": "stdout",
     "output_type": "stream",
     "text": [
      "----------------------------------------------------------------\n",
      "        Layer (type)               Output Shape         Param #\n",
      "================================================================\n",
      "            Linear-1                   [-1, 10]             110\n",
      "            Linear-2                    [-1, 1]              11\n",
      "           Sigmoid-3                    [-1, 1]               0\n",
      "================================================================\n",
      "Total params: 121\n",
      "Trainable params: 121\n",
      "Non-trainable params: 0\n",
      "----------------------------------------------------------------\n",
      "Input size (MB): 0.00\n",
      "Forward/backward pass size (MB): 0.00\n",
      "Params size (MB): 0.00\n",
      "Estimated Total Size (MB): 0.00\n",
      "----------------------------------------------------------------\n"
     ]
    }
   ],
   "source": [
    "summary(model, (X.shape[1],))"
   ]
  },
  {
   "cell_type": "code",
   "execution_count": 60,
   "id": "c6fafff3-7afa-4036-830a-a277ea132681",
   "metadata": {},
   "outputs": [],
   "source": [
    "# Define the loss function (Binary Cross-Entropy) for binary classification\n",
    "criterion = nn.BCELoss()\n",
    "\n",
    "# Define the optimizer (Adam) to update model weights during training\n",
    "# Learning rate is set to 0.001\n",
    "optimizer = Adam(model.parameters(), lr = 1e-3)"
   ]
  },
  {
   "cell_type": "code",
   "execution_count": 119,
   "id": "09dde986-629f-48a9-a659-ec052cc22d25",
   "metadata": {},
   "outputs": [
    {
     "name": "stdout",
     "output_type": "stream",
     "text": [
      "Epoch no: 1 Train Loss: 0.0431 Train Accuracy: 98.4838\n",
      "              Validation Loss: 0.0477 Validation Accuracy: 98.5337  \n",
      "********************************************************************************************************\n",
      "Epoch no: 2 Train Loss: 0.0429 Train Accuracy: 98.5309\n",
      "              Validation Loss: 0.0505 Validation Accuracy: 98.3138  \n",
      "********************************************************************************************************\n",
      "Epoch no: 3 Train Loss: 0.043 Train Accuracy: 98.5466\n",
      "              Validation Loss: 0.048 Validation Accuracy: 98.3871  \n",
      "********************************************************************************************************\n",
      "Epoch no: 4 Train Loss: 0.0429 Train Accuracy: 98.5859\n",
      "              Validation Loss: 0.0466 Validation Accuracy: 98.7537  \n",
      "********************************************************************************************************\n",
      "Epoch no: 5 Train Loss: 0.0431 Train Accuracy: 98.5309\n",
      "              Validation Loss: 0.0465 Validation Accuracy: 98.6804  \n",
      "********************************************************************************************************\n",
      "Epoch no: 6 Train Loss: 0.043 Train Accuracy: 98.5781\n",
      "              Validation Loss: 0.0474 Validation Accuracy: 98.4604  \n",
      "********************************************************************************************************\n",
      "Epoch no: 7 Train Loss: 0.043 Train Accuracy: 98.5466\n",
      "              Validation Loss: 0.0489 Validation Accuracy: 98.3138  \n",
      "********************************************************************************************************\n",
      "Epoch no: 8 Train Loss: 0.0429 Train Accuracy: 98.5466\n",
      "              Validation Loss: 0.0498 Validation Accuracy: 98.3138  \n",
      "********************************************************************************************************\n",
      "Epoch no: 9 Train Loss: 0.0431 Train Accuracy: 98.5073\n",
      "              Validation Loss: 0.0473 Validation Accuracy: 98.5337  \n",
      "********************************************************************************************************\n",
      "Epoch no: 10 Train Loss: 0.0429 Train Accuracy: 98.5073\n",
      "              Validation Loss: 0.0481 Validation Accuracy: 98.3871  \n",
      "********************************************************************************************************\n"
     ]
    }
   ],
   "source": [
    "# Lists to store loss and accuracy for plotting later\n",
    "total_loss_train_plot = []\n",
    "total_loss_validation_plot = []\n",
    "total_acc_train_plot = []\n",
    "total_acc_validation_plot = []\n",
    "\n",
    "# Set the number of training epochs\n",
    "epochs = 10\n",
    "\n",
    "for epoch in range(epochs):\n",
    "    # Initialize accumulators for training and validation loss and accuracy\n",
    "    total_acc_train = 0\n",
    "    total_loss_train = 0\n",
    "    total_acc_val = 0\n",
    "    total_loss_val = 0\n",
    "\n",
    "    # training----\n",
    "    for data in training_dataloader:\n",
    "        inputs, labels = data # Get features and labels for the batch\n",
    "\n",
    "        prediction = model(inputs).squeeze(1) # Make predictions for the batch\n",
    "        # print(predictions.shape)\n",
    "        # print(predictions.squeeze(1).shape)\n",
    "        # break\n",
    "        batch_loss = criterion(prediction, labels) # Compute loss for the batch\n",
    "        total_loss_train += batch_loss.item()\n",
    "\n",
    "        acc = ((prediction).round() == labels).sum().item()\n",
    "        total_acc_train += acc\n",
    "\n",
    "        batch_loss.backward() \n",
    "        optimizer.step()\n",
    "        optimizer.zero_grad() # Reset gradients\n",
    "\n",
    "    # validation -----\n",
    "    with torch.no_grad():\n",
    "        for data in validation_dataloader:\n",
    "            inputs, labels = data\n",
    "            prediction = model(inputs).squeeze(1)\n",
    "            \n",
    "            batch_loss_val = criterion(prediction, labels)\n",
    "            total_loss_val += batch_loss_val.item()\n",
    "            \n",
    "            # total_loss_val += batch_loss.item() # Compute validation loss\n",
    "\n",
    "            acc = ((prediction).round() == labels).sum().item()\n",
    "            total_acc_val += acc\n",
    "\n",
    "    # total_loss_train_plot.append(round(total_loss_train/1000, 4))\n",
    "    # total_loss_validation_plot.append(round(total_loss_val/1000, 4))\n",
    "\n",
    "    total_loss_train_plot.append(round(total_loss_train/len(training_dataloader), 4))\n",
    "    total_loss_validation_plot.append(round(total_loss_val/len(validation_dataloader), 4))\n",
    "    \n",
    "    # total_loss_train_plot.append(round(total_acc_train/training_data.__len__() * 100, 4))\n",
    "    # total_loss_validation_plot.append(round(total_acc_val/validation_data.__len__() * 100, 4))\n",
    "\n",
    "    total_acc_train_plot.append(round(total_acc_train/len(training_data) * 100, 4))\n",
    "    total_acc_validation_plot.append(round(total_acc_val/len(validation_data) * 100, 4))\n",
    "    \n",
    "    print(f'''Epoch no: {epoch+1} Train Loss: {round(total_loss_train/len(training_dataloader), 4)} Train Accuracy: {round(total_acc_train/len(training_data) * 100, 4)}\n",
    "              Validation Loss: {round(total_loss_val/len(validation_dataloader), 4)} Validation Accuracy: {round(total_acc_val/len(validation_data) * 100, 4)}  ''')\n",
    "    \n",
    "    print(\"********************************************************************************************************\")"
   ]
  },
  {
   "cell_type": "code",
   "execution_count": 122,
   "id": "7422a7e5-896b-4fdb-b280-0ab95ed16a61",
   "metadata": {},
   "outputs": [
    {
     "name": "stdout",
     "output_type": "stream",
     "text": [
      "Test Loss: 0.0272\n",
      "Test Accuracy: 99.19%\n"
     ]
    }
   ],
   "source": [
    "with torch.no_grad():\n",
    "    total_loss_test = 0\n",
    "    total_acc_test = 0\n",
    "\n",
    "    # test dataset loop\n",
    "    for data in testing_dataloader:\n",
    "        inputs, labels = data  # unpack batch\n",
    "\n",
    "        prediction = model(inputs).squeeze(1)\n",
    "\n",
    "        # compute loss for this batch\n",
    "        batch_loss_test = criterion(prediction, labels)\n",
    "        total_loss_test += batch_loss_test.item()\n",
    "\n",
    "        # compute accuracy for this batch\n",
    "        acc = ((prediction).round() == labels).sum().item()\n",
    "        total_acc_test += acc\n",
    "\n",
    "    # average loss and accuracy\n",
    "    avg_test_loss = total_loss_test / len(testing_dataloader)\n",
    "    avg_test_acc = total_acc_test / len(testing_data) * 100\n",
    "\n",
    "    print(f\"Test Loss: {avg_test_loss:.4f}\")\n",
    "    print(f\"Test Accuracy: {avg_test_acc:.2f}%\")"
   ]
  },
  {
   "cell_type": "code",
   "execution_count": 128,
   "id": "8d5c9d4a-480f-447d-914f-21d7d470712c",
   "metadata": {},
   "outputs": [
    {
     "data": {
      "image/png": "[encoded data removed]",
      "text/plain": [
       "<Figure size 1500x500 with 2 Axes>"
      ]
     },
     "metadata": {},
     "output_type": "display_data"
    }
   ],
   "source": [
    "# data visualization\n",
    "\n",
    "fig, axs = plt.subplots(nrows = 1, ncols = 2, figsize = (15, 5))\n",
    "\n",
    "axs[0].plot(total_loss_train_plot, label = 'Training Loss')\n",
    "axs[0].plot(total_loss_validation_plot, label = 'Validation Loss')\n",
    "axs[0].set_title('Training & Validation Loss over epochs')\n",
    "axs[0].set_xlabel('Epochs')\n",
    "axs[0].set_ylabel('Loss')\n",
    "axs[0].set_ylim([0, 2])\n",
    "axs[0].legend()\n",
    "\n",
    "\n",
    "axs[1].plot(total_acc_train_plot, 'o-', label = 'Training Accuracy')\n",
    "axs[1].plot(total_acc_validation_plot, 's-', label = 'Validation Accuracy')\n",
    "axs[1].set_title('Training & Validation Accuracy over epochs')\n",
    "axs[1].set_xlabel('Epochs')\n",
    "axs[1].set_ylabel('Accuracy')\n",
    "axs[1].set_ylim([80, 100])\n",
    "axs[1].legend()\n",
    "\n",
    "plt.show()"
   ]
  },
  {
   "cell_type": "code",
   "execution_count": 124,
   "id": "7e165e57-614f-48f5-b9fa-89438366d04f",
   "metadata": {},
   "outputs": [
    {
     "name": "stdout",
     "output_type": "stream",
     "text": [
      "[98.4838, 98.5309, 98.5466, 98.5859, 98.5309]\n",
      "[98.5337, 98.3138, 98.3871, 98.7537, 98.6804]\n"
     ]
    }
   ],
   "source": [
    "print(total_acc_train_plot[:5])   # first 5 training accuracies\n",
    "print(total_acc_validation_plot[:5])  # first 5 validation accuracies"
   ]
  },
  {
   "cell_type": "code",
   "execution_count": 132,
   "id": "eba783d9-b660-4c52-8c57-304d9acf9112",
   "metadata": {},
   "outputs": [],
   "source": [
    "Area = 342/original_df['Area'].abs().max()\n",
    "\n",
    "MajorAxisLength = 654/original_df['MajorAxisLength'].abs().max()\n",
    "\n",
    "MinorAxisLength = 385/original_df['MinorAxisLength'].abs().max()\n",
    "\n",
    "Eccentricity = 452/original_df['Eccentricity'].abs().max()\n",
    "\n",
    "ConvexArea = 754/original_df['ConvexArea'].abs().max()\n",
    "\n",
    "EquivDiameter = 807/original_df['EquivDiameter'].abs().max()\n",
    "\n",
    "Extent = 67/original_df['Extent'].abs().max()\n",
    "\n",
    "Perimeter = 23/original_df['Perimeter'].abs().max()\n",
    "\n",
    "Roundness = 90/original_df['Roundness'].abs().max()\n",
    "\n",
    "AspectRation = 56/original_df['AspectRation'].abs().max()\n",
    "\n",
    "my_prediction = model(torch.tensor([Area, MajorAxisLength, MinorAxisLength, Eccentricity, ConvexArea, EquivDiameter, Extent, Perimeter, Roundness, AspectRation], dtype = torch.float32).to(device))\n"
   ]
  },
  {
   "cell_type": "code",
   "execution_count": 133,
   "id": "aef80829-448b-4e6b-ae6c-f14080d3d1d7",
   "metadata": {},
   "outputs": [
    {
     "data": {
      "text/plain": [
       "tensor([1.], device='cuda:0', grad_fn=<SigmoidBackward0>)"
      ]
     },
     "execution_count": 133,
     "metadata": {},
     "output_type": "execute_result"
    }
   ],
   "source": [
    "my_prediction"
   ]
  },
  {
   "cell_type": "code",
   "execution_count": 134,
   "id": "15d7c0b9-2cb7-4020-b0fe-a05db7b432ee",
   "metadata": {},
   "outputs": [
    {
     "data": {
      "text/plain": [
       "1.0"
      ]
     },
     "execution_count": 134,
     "metadata": {},
     "output_type": "execute_result"
    }
   ],
   "source": [
    "my_prediction.item()"
   ]
  }
 ],
 "metadata": {
  "kernelspec": {
   "display_name": "Python 3 (ipykernel)",
   "language": "python",
   "name": "python3"
  },
  "language_info": {
   "codemirror_mode": {
    "name": "ipython",
    "version": 3
   },
   "file_extension": ".py",
   "mimetype": "text/x-python",
   "name": "python",
   "nbconvert_exporter": "python",
   "pygments_lexer": "ipython3",
   "version": "3.10.18"
  }
 },
 "nbformat": 4,
 "nbformat_minor": 5
}
